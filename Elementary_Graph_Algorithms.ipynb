{
  "nbformat": 4,
  "nbformat_minor": 0,
  "metadata": {
    "colab": {
      "name": "Elementary Graph Algorithms.ipynb",
      "version": "0.3.2",
      "provenance": [],
      "include_colab_link": true
    },
    "kernelspec": {
      "name": "python3",
      "display_name": "Python 3"
    }
  },
  "cells": [
    {
      "cell_type": "markdown",
      "metadata": {
        "id": "view-in-github",
        "colab_type": "text"
      },
      "source": [
        "<a href=\"https://colab.research.google.com/github/AigerimJ/algorithms/blob/master/Elementary_Graph_Algorithms.ipynb\" target=\"_parent\"><img src=\"https://colab.research.google.com/assets/colab-badge.svg\" alt=\"Open In Colab\"/></a>"
      ]
    },
    {
      "metadata": {
        "id": "FECQaV9N7IcM",
        "colab_type": "code",
        "colab": {}
      },
      "cell_type": "code",
      "source": [
        "## importing libraries if needed"
      ],
      "execution_count": 0,
      "outputs": []
    },
    {
      "metadata": {
        "id": "tLP5q0Cyf3fU",
        "colab_type": "text"
      },
      "cell_type": "markdown",
      "source": [
        "**DFS-BFS**\n",
        "\n",
        "Here I try to implement elementary graph algorithms "
      ]
    },
    {
      "metadata": {
        "id": "KG7k-cGVf7YT",
        "colab_type": "text"
      },
      "cell_type": "markdown",
      "source": [
        "# DFS"
      ]
    },
    {
      "metadata": {
        "id": "eM6rOC_kf7kc",
        "colab_type": "code",
        "colab": {}
      },
      "cell_type": "code",
      "source": [
        "graph1 = {\n",
        "    'A' : ['B','S'],\n",
        "    'B' : ['A'],\n",
        "    'C' : ['D','E','F','S'],\n",
        "    'D' : ['C'],\n",
        "    'E' : ['C','H'],\n",
        "    'F' : ['C','G'],\n",
        "    'G' : ['F','S'],\n",
        "    'H' : ['E','G'],\n",
        "    'S' : ['A','C','G']\n",
        "}\n",
        "\n",
        "def dfs(graph, node, visited):\n",
        "    if node not in visited:\n",
        "        visited.append(node)\n",
        "        for n in graph[node]:\n",
        "            dfs(graph,n, visited)\n",
        "    return visited\n",
        "\n",
        "visited = dfs(graph1,'A', [])\n",
        "print(visited)"
      ],
      "execution_count": 0,
      "outputs": []
    },
    {
      "metadata": {
        "id": "PL9PKUAQfpb8",
        "colab_type": "text"
      },
      "cell_type": "markdown",
      "source": [
        "# BFS"
      ]
    },
    {
      "metadata": {
        "id": "SBfEMGcYfnIM",
        "colab_type": "code",
        "colab": {}
      },
      "cell_type": "code",
      "source": [
        ""
      ],
      "execution_count": 0,
      "outputs": []
    }
  ]
}