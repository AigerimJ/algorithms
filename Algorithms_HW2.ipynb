{
  "nbformat": 4,
  "nbformat_minor": 0,
  "metadata": {
    "colab": {
      "name": "Algorithms_HW2.ipynb",
      "version": "0.3.2",
      "provenance": [],
      "include_colab_link": true
    },
    "kernelspec": {
      "name": "python3",
      "display_name": "Python 3"
    }
  },
  "cells": [
    {
      "cell_type": "markdown",
      "metadata": {
        "id": "view-in-github",
        "colab_type": "text"
      },
      "source": [
        "<a href=\"https://colab.research.google.com/github/AigerimJ/algorithms/blob/master/Algorithms_HW2.ipynb\" target=\"_parent\"><img src=\"https://colab.research.google.com/assets/colab-badge.svg\" alt=\"Open In Colab\"/></a>"
      ]
    },
    {
      "metadata": {
        "id": "qb905yB4pvFe",
        "colab_type": "text"
      },
      "cell_type": "markdown",
      "source": [
        "**CSCI 270: Algorithms**\n",
        "\n",
        "**Spring 2019 Homework 2**\n",
        "\n",
        "**Due Date: 17 April 2019**\n",
        "\n",
        "*By Aigerim Janaliyeva*\n",
        "\n",
        "1. Modify the depth first search so that it gives the connected component number for\n",
        "each vertex. Here, two vertices belonging to the same connected component will get\n",
        "the same number. "
      ]
    },
    {
      "metadata": {
        "id": "pzm-2-7rpyBO",
        "colab_type": "code",
        "colab": {}
      },
      "cell_type": "code",
      "source": [
        ""
      ],
      "execution_count": 0,
      "outputs": []
    }
  ]
}