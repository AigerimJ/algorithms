{
  "nbformat": 4,
  "nbformat_minor": 0,
  "metadata": {
    "colab": {
      "name": "Algorithms_HW2.ipynb",
      "version": "0.3.2",
      "provenance": [],
      "collapsed_sections": [],
      "include_colab_link": true
    },
    "kernelspec": {
      "name": "python3",
      "display_name": "Python 3"
    }
  },
  "cells": [
    {
      "cell_type": "markdown",
      "metadata": {
        "id": "view-in-github",
        "colab_type": "text"
      },
      "source": [
        "<a href=\"https://colab.research.google.com/github/AigerimJ/algorithms/blob/master/Algorithms_HW2.ipynb\" target=\"_parent\"><img src=\"https://colab.research.google.com/assets/colab-badge.svg\" alt=\"Open In Colab\"/></a>"
      ]
    },
    {
      "metadata": {
        "id": "qb905yB4pvFe",
        "colab_type": "text"
      },
      "cell_type": "markdown",
      "source": [
        "**CSCI 270: Algorithms**\n",
        "\n",
        "**Spring 2019 Homework 2**\n",
        "\n",
        "**Due Date: 17 April 2019**\n",
        "\n",
        "*By Aigerim Janaliyeva*\n",
        "\n",
        "1. Modify the depth first search so that it gives the connected component number for\n",
        "each vertex. Here, two vertices belonging to the same connected component will get\n",
        "the same number. "
      ]
    },
    {
      "metadata": {
        "id": "pzm-2-7rpyBO",
        "colab_type": "code",
        "colab": {}
      },
      "cell_type": "code",
      "source": [
        "## 22.3-12 problem\n",
        "\n",
        "\n",
        "\n"
      ],
      "execution_count": 0,
      "outputs": []
    },
    {
      "metadata": {
        "id": "MijjSn1t8fOK",
        "colab_type": "text"
      },
      "cell_type": "markdown",
      "source": [
        "2. Design a 𝜃(𝑉 + 𝐸) algorithm that finds whether an undirected graph G=(V,E)\n",
        "contains a cycle. "
      ]
    },
    {
      "metadata": {
        "id": "tYXVZOu28fj8",
        "colab_type": "code",
        "colab": {}
      },
      "cell_type": "code",
      "source": [
        "## something like 22.4-3\n",
        "\n",
        "\n",
        "\n",
        "\n"
      ],
      "execution_count": 0,
      "outputs": []
    },
    {
      "metadata": {
        "id": "RqKJZ3z_8f4a",
        "colab_type": "text"
      },
      "cell_type": "markdown",
      "source": [
        "3. How does the strongly connected component of a directed graph change after inserting\n",
        "an edge to this graph? Explain your answer. "
      ]
    },
    {
      "metadata": {
        "id": "VW16cQPS8gGD",
        "colab_type": "code",
        "colab": {}
      },
      "cell_type": "code",
      "source": [
        "## 22.5-1\n",
        "\n",
        "\n"
      ],
      "execution_count": 0,
      "outputs": []
    },
    {
      "metadata": {
        "id": "cT_xf23u8gNS",
        "colab_type": "text"
      },
      "cell_type": "markdown",
      "source": [
        "4. A directed graph is uni-connected, if for all 𝑢, 𝑣 ∈ 𝑉, there is a path from 𝑢 to 𝑣 and\n",
        "from 𝑣 to 𝑢. Given an directed graph G=(V,E), design an algorithm that finds whether\n",
        "it is uni-directed in 𝑂(𝑉 + 𝐸). Discuss its correctness and running time. "
      ]
    },
    {
      "metadata": {
        "id": "1KjZl9qS8gTy",
        "colab_type": "code",
        "colab": {}
      },
      "cell_type": "code",
      "source": [
        "## 22.5-7\n",
        "\n",
        "\n",
        "\n"
      ],
      "execution_count": 0,
      "outputs": []
    },
    {
      "metadata": {
        "id": "AG4_z3Db8giK",
        "colab_type": "text"
      },
      "cell_type": "markdown",
      "source": [
        "5. Given a DAG and two of its vertices s and t, find an efficient algorithm that finds the\n",
        "total number of different paths from s to t. Analyze the running time of your algorithm\n",
        "and discuss its correctness."
      ]
    },
    {
      "metadata": {
        "id": "xjPRYUSS8gsz",
        "colab_type": "code",
        "colab": {}
      },
      "cell_type": "code",
      "source": [
        "## 24.2-4\n",
        "\n",
        "\n",
        "\n"
      ],
      "execution_count": 0,
      "outputs": []
    },
    {
      "metadata": {
        "id": "jkf94V3Q8gyr",
        "colab_type": "text"
      },
      "cell_type": "markdown",
      "source": [
        "6. Let e=(u,v) be the minimum weight edge of an undirected graph. Prove that e=(u,v)\n",
        "must be in the MST or simply give a counter example in which e=(u,v) does not\n",
        "belong to the MST. (Assume that the graph does not have any other edge with the\n",
        "same weight as e=(u,v)). "
      ]
    },
    {
      "metadata": {
        "id": "UZVYv8vX8g5j",
        "colab_type": "code",
        "colab": {}
      },
      "cell_type": "code",
      "source": [
        "## 23.1-1"
      ],
      "execution_count": 0,
      "outputs": []
    },
    {
      "metadata": {
        "id": "AdEiW-Qj8hAL",
        "colab_type": "text"
      },
      "cell_type": "markdown",
      "source": [
        "7. Assume that all edge weights of a graph are integers between 1 and c, where c is a\n",
        "constant. Can we make Kruskal’s MST algorithm faster? Explain. "
      ]
    },
    {
      "metadata": {
        "id": "dQMrdYuc8hF6",
        "colab_type": "code",
        "colab": {}
      },
      "cell_type": "code",
      "source": [
        "## 23.2-4"
      ],
      "execution_count": 0,
      "outputs": []
    },
    {
      "metadata": {
        "id": "KS-DIYOP8hML",
        "colab_type": "text"
      },
      "cell_type": "markdown",
      "source": [
        "8. Run the Bellman-Ford algorithm on the graph, starting from vertex y. After each\n",
        "iteration, show how the current shortest path distances change. "
      ]
    },
    {
      "metadata": {
        "id": "cQJ1uIj18hSD",
        "colab_type": "code",
        "colab": {}
      },
      "cell_type": "code",
      "source": [
        "## something like 24.1-1"
      ],
      "execution_count": 0,
      "outputs": []
    },
    {
      "metadata": {
        "id": "UI4FD4BO8hYT",
        "colab_type": "text"
      },
      "cell_type": "markdown",
      "source": [
        "9. Run the Floyd-Warshall algoritm. Show the steps. "
      ]
    },
    {
      "metadata": {
        "id": "J7E9J1j68hfK",
        "colab_type": "code",
        "colab": {}
      },
      "cell_type": "code",
      "source": [
        "## something like 25.2-1"
      ],
      "execution_count": 0,
      "outputs": []
    },
    {
      "metadata": {
        "id": "mczaQ3X0cESB",
        "colab_type": "text"
      },
      "cell_type": "markdown",
      "source": [
        "10. Consider the following graph. Run DFS starting from u to find the edge types. While\n",
        "running DFS, if there is a decision between multiple neighbor nodes, choose the letter\n",
        "closest to the beginning of the alphabet first. "
      ]
    },
    {
      "metadata": {
        "id": "BKkfYJjCcEdB",
        "colab_type": "code",
        "colab": {}
      },
      "cell_type": "code",
      "source": [
        "## something like 22.3-10"
      ],
      "execution_count": 0,
      "outputs": []
    }
  ]
}