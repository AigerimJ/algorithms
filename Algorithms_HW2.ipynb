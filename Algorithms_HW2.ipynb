{
  "nbformat": 4,
  "nbformat_minor": 0,
  "metadata": {
    "colab": {
      "name": "Algorithms_HW2.ipynb",
      "version": "0.3.2",
      "provenance": [],
      "collapsed_sections": [],
      "include_colab_link": true
    },
    "kernelspec": {
      "name": "python3",
      "display_name": "Python 3"
    }
  },
  "cells": [
    {
      "cell_type": "markdown",
      "metadata": {
        "id": "view-in-github",
        "colab_type": "text"
      },
      "source": [
        "<a href=\"https://colab.research.google.com/github/AigerimJ/algorithms/blob/master/Algorithms_HW2.ipynb\" target=\"_parent\"><img src=\"https://colab.research.google.com/assets/colab-badge.svg\" alt=\"Open In Colab\"/></a>"
      ]
    },
    {
      "metadata": {
        "id": "qb905yB4pvFe",
        "colab_type": "text"
      },
      "cell_type": "markdown",
      "source": [
        "**CSCI 270: Algorithms**\n",
        "\n",
        "**Spring 2019 Homework 2**\n",
        "\n",
        "**Due Date: 17 April 2019**\n",
        "\n",
        "*By Aigerim Janaliyeva*\n",
        "\n",
        "1. Modify the depth first search so that it gives the connected component number for\n",
        "each vertex. Here, two vertices belonging to the same connected component will get\n",
        "the same number. "
      ]
    },
    {
      "metadata": {
        "id": "pzm-2-7rpyBO",
        "colab_type": "code",
        "colab": {}
      },
      "cell_type": "code",
      "source": [
        ""
      ],
      "execution_count": 0,
      "outputs": []
    },
    {
      "metadata": {
        "id": "MijjSn1t8fOK",
        "colab_type": "text"
      },
      "cell_type": "markdown",
      "source": [
        "2. Design a 𝜃(𝑉 + 𝐸) algorithm that finds whether an undirected graph G=(V,E)\n",
        "contains a cycle. "
      ]
    },
    {
      "metadata": {
        "id": "tYXVZOu28fj8",
        "colab_type": "code",
        "colab": {}
      },
      "cell_type": "code",
      "source": [
        ""
      ],
      "execution_count": 0,
      "outputs": []
    },
    {
      "metadata": {
        "id": "RqKJZ3z_8f4a",
        "colab_type": "text"
      },
      "cell_type": "markdown",
      "source": [
        "3. How does the strongly connected component of a directed graph change after inserting\n",
        "an edge to this graph? Explain your answer. "
      ]
    },
    {
      "metadata": {
        "id": "VW16cQPS8gGD",
        "colab_type": "code",
        "colab": {}
      },
      "cell_type": "code",
      "source": [
        ""
      ],
      "execution_count": 0,
      "outputs": []
    },
    {
      "metadata": {
        "id": "cT_xf23u8gNS",
        "colab_type": "text"
      },
      "cell_type": "markdown",
      "source": [
        "4. A directed graph is uni-connected, if for all 𝑢, 𝑣 ∈ 𝑉, there is a path from 𝑢 to 𝑣 and\n",
        "from 𝑣 to 𝑢. Given an directed graph G=(V,E), design an algorithm that finds whether\n",
        "it is uni-directed in 𝑂(𝑉 + 𝐸). Discuss its correctness and running time. "
      ]
    },
    {
      "metadata": {
        "id": "1KjZl9qS8gTy",
        "colab_type": "code",
        "colab": {}
      },
      "cell_type": "code",
      "source": [
        ""
      ],
      "execution_count": 0,
      "outputs": []
    },
    {
      "metadata": {
        "id": "AG4_z3Db8giK",
        "colab_type": "text"
      },
      "cell_type": "markdown",
      "source": [
        ""
      ]
    },
    {
      "metadata": {
        "id": "xjPRYUSS8gsz",
        "colab_type": "code",
        "colab": {}
      },
      "cell_type": "code",
      "source": [
        ""
      ],
      "execution_count": 0,
      "outputs": []
    },
    {
      "metadata": {
        "id": "jkf94V3Q8gyr",
        "colab_type": "text"
      },
      "cell_type": "markdown",
      "source": [
        ""
      ]
    },
    {
      "metadata": {
        "id": "UZVYv8vX8g5j",
        "colab_type": "code",
        "colab": {}
      },
      "cell_type": "code",
      "source": [
        ""
      ],
      "execution_count": 0,
      "outputs": []
    },
    {
      "metadata": {
        "id": "AdEiW-Qj8hAL",
        "colab_type": "text"
      },
      "cell_type": "markdown",
      "source": [
        ""
      ]
    },
    {
      "metadata": {
        "id": "dQMrdYuc8hF6",
        "colab_type": "code",
        "colab": {}
      },
      "cell_type": "code",
      "source": [
        ""
      ],
      "execution_count": 0,
      "outputs": []
    },
    {
      "metadata": {
        "id": "KS-DIYOP8hML",
        "colab_type": "text"
      },
      "cell_type": "markdown",
      "source": [
        ""
      ]
    },
    {
      "metadata": {
        "id": "cQJ1uIj18hSD",
        "colab_type": "code",
        "colab": {}
      },
      "cell_type": "code",
      "source": [
        ""
      ],
      "execution_count": 0,
      "outputs": []
    },
    {
      "metadata": {
        "id": "UI4FD4BO8hYT",
        "colab_type": "text"
      },
      "cell_type": "markdown",
      "source": [
        ""
      ]
    },
    {
      "metadata": {
        "id": "J7E9J1j68hfK",
        "colab_type": "code",
        "colab": {}
      },
      "cell_type": "code",
      "source": [
        ""
      ],
      "execution_count": 0,
      "outputs": []
    }
  ]
}